{
  "nbformat": 4,
  "nbformat_minor": 0,
  "metadata": {
    "colab": {
      "provenance": [],
      "collapsed_sections": [],
      "authorship_tag": "ABX9TyNOS5wXM23YkLelm76N3HUy",
      "include_colab_link": true
    },
    "kernelspec": {
      "name": "python3",
      "display_name": "Python 3"
    },
    "language_info": {
      "name": "python"
    }
  },
  "cells": [
    {
      "cell_type": "markdown",
      "metadata": {
        "id": "view-in-github",
        "colab_type": "text"
      },
      "source": [
        "<a href=\"https://colab.research.google.com/github/CuiChangIsLaJi/MissingDataTutorials/blob/main/complete_case_analysis.ipynb\" target=\"_parent\"><img src=\"https://colab.research.google.com/assets/colab-badge.svg\" alt=\"Open In Colab\"/></a>"
      ]
    },
    {
      "cell_type": "markdown",
      "source": [
        "# **Introduction**\n",
        "This tutorial will present you a toy model to investigate the biasedness of naive CC analysis and how the Inverse Probability Weighting(IPW) could help resolve this trouble.\n",
        "\n",
        "As introduced in the lecture, Complete Case(CC) analysis is a simple, efficient but limited method to handle missing data, which is prone to severely biased estimation unless the MCAR assumption holds:\n",
        "\n",
        "$$\n",
        "p\\left\\{R\\middle|X;\\phi\\right\\} = p\\left\\{R\\right\\},\\forall X,\\phi\n",
        "$$\n",
        "where \n",
        "$$\n",
        "R := \\mathbf{1}_{\\left\\{X_{ij}\\mathrm{obtained}\\right\\}}\n",
        "$$ denotes the *response indicator matrix*. Here you would see how biasedness occurs when we simply reduce our condition to MAR case.\n",
        "\n",
        "Well, the first and foremost step, import the libraries we need."
      ],
      "metadata": {
        "id": "QYaDta_e-shf"
      }
    },
    {
      "cell_type": "code",
      "source": [
        "from matplotlib import pyplot as plt\n",
        "import numpy as np\n",
        "#Comment the following line if you are not running the code in IPython.\n",
        "%matplotlib inline"
      ],
      "metadata": {
        "id": "NyBgwkpo-zuH"
      },
      "execution_count": 83,
      "outputs": []
    },
    {
      "cell_type": "markdown",
      "source": [
        "# **Section 1: Dataset generation**\n",
        "For simplicity, we consider a 2-variable MAR model $X_1,X_2 \\sim \\mathcal{N}(0,1)$ with part of $X_2$ missing. Specifically, the missingness probability of each $X_2$ entry is dependent on $X_1$:\n",
        "$$\n",
        "p\\left\\{R_{i2} = 0 \\middle| X_1 \\right\\} = \n",
        "\\begin{cases}\n",
        "0.25, & X_1 > 0,\\\\\n",
        "0.50, & X_1 \\le0\n",
        "\\end{cases}\n",
        "$$\n",
        "while $p\\left\\{R_{i1} = 0\\right\\} = 0, \\forall i$, as $X_1$ is supposed to be fully observed.\n",
        "\n",
        "To make the situation real, consider our case a longitudinal investigation where $X_1$ stands for some sort of reward. The subject would certainly have a stronger tendency to quit if his payment is relatively low (the threshold is set to 0 for simplicity, but, of course, it is really a bad idea to draw money from subjects...so you might want to view 0 as the measurement of average payment level.)\n",
        "\n",
        "In this section, let's see how we use random modules in NumPy to generate our toy dataset. We conduct a 500-epoch Bootstrap simulation with 100 data entries sampled one at a time, from a 10000-entry data pool obeying distribution $\\mathcal{N}(0,1)$. The random seed is set to 1020 for nothing but reproducability (Wondering what this means?...Well, 1020 is my birthday, so...you know what to do then?).\n",
        "\n",
        "In this simulation program, we need both the complete and damaged form of data, so we prefer maintaining the response matrix explicitly rather than directly setting part of the values to `NaN`. Also note that, the part of response indicator that we really care, namely $R_{(\\cdot)2}$, contains only 1 column, and the information could then be stored using a 1-D array.\n",
        "\n",
        "The trickiest part is to *simulate a random event on computer*. Typically we generate a (uniformly distributed, in this case) random number using NumPy function **random.random()** $\\xi$, and compare it with our given probability $p$. We then set the event to happen if $\\xi < p$ and not to happen otherwise."
      ],
      "metadata": {
        "id": "oBy_koEXEG5F"
      }
    },
    {
      "cell_type": "code",
      "source": [
        "np.random.seed(1020)\n",
        "N_sample, p0, p1 = 10000, 0.25, 0.5\n",
        "\n",
        "X1 = np.random.randn(N_sample)\n",
        "X2 = np.random.randn(N_sample)\n",
        "\n",
        "r = np.ones(N_sample)\n",
        "for i in range(N_sample):\n",
        "  xi = np.random.random()\n",
        "  if ((X1[i] > 0) and (xi < p0)) or ((X1[i] <= 0) and (xi < p1)):\n",
        "    r[i] = 0\n",
        "\n",
        "#Check validity: the frequency of missing-data entries is close to the real probability 0.5 * 0.25 + 0.5 * 0.5 = 0.375\n",
        "1 - r.sum() / N_sample"
      ],
      "metadata": {
        "colab": {
          "base_uri": "https://localhost:8080/"
        },
        "id": "NEGnXcatJ8ZV",
        "outputId": "df68f708-b46a-4d0e-e391-ecc1ae0eb1a3"
      },
      "execution_count": 84,
      "outputs": [
        {
          "output_type": "execute_result",
          "data": {
            "text/plain": [
              "0.37360000000000004"
            ]
          },
          "metadata": {},
          "execution_count": 84
        }
      ]
    },
    {
      "cell_type": "markdown",
      "source": [
        "#**Section 2: Bootstrap simulation**\n",
        "\n",
        "We then run the 1000-epoch Bootstrap sampling and estimate the mean value of variable $X_2$. For an unbiased estimator, the mean value should be 0, according to the rule to generate data.\n",
        "\n",
        "Here we pass 2 empty lists `avr_complete` and `avr_missing` and use the built-in Python operator `+=` to append an element to the list in-place. If you are familiar with the concept of **reference** in languages like C++, you should be comfortable with this sort of action."
      ],
      "metadata": {
        "id": "Ut9lRBEOQ7JV"
      }
    },
    {
      "cell_type": "code",
      "source": [
        "def bootstrap_sampling(\n",
        "    avr_complete, avr_missing,\n",
        "    n_sample, n_epoch,\n",
        "    data\n",
        "    ):\n",
        "  # \"data\" is a combination in form of [X2,r]\n",
        "  for _ in range(n_epoch):\n",
        "    sample = data[np.random.choice(\n",
        "          np.arange(data.shape[0]), n_sample, replace = False  \n",
        "        )]\n",
        "    avr_complete += [sample[:,0].mean()]\n",
        "    avr_missing += [sample[:,0][np.nonzero(sample[:,1])].mean()]\n",
        "\n",
        "avr_complete, avr_missing = [], []\n",
        "n_sample, n_epoch = 100, 500\n",
        "data = np.stack([X2,r], axis = 1)\n",
        "bootstrap_sampling(avr_complete, avr_missing, n_sample, n_epoch, data)"
      ],
      "metadata": {
        "id": "BQ1wqNHTTFS-"
      },
      "execution_count": 85,
      "outputs": []
    },
    {
      "cell_type": "code",
      "source": [
        "def plot_hist(avrs, label):\n",
        "  n, bins, patches = plt.hist(avrs, 10, facecolor='b')\n",
        "  plt.title(\"Histogram(\" + label + \")\\n($\\mu = $\" + str(avrs.mean())[:5] + \",$\\sigma = $\" + str(avrs.std())[:5] + \")\")\n",
        "  plt.show()\n",
        "\n",
        "complete = np.array(avr_complete)\n",
        "missing = np.array(avr_missing)\n",
        "plot_hist(complete, \"Complete data\")\n",
        "plot_hist(missing, \"Complete-Case Analysis\")"
      ],
      "metadata": {
        "colab": {
          "base_uri": "https://localhost:8080/",
          "height": 581
        },
        "id": "UiBOHnfOrshO",
        "outputId": "3ab289b2-4d48-4c10-b0dc-07c68226c94e"
      },
      "execution_count": 86,
      "outputs": [
        {
          "output_type": "display_data",
          "data": {
            "text/plain": [
              "<Figure size 432x288 with 1 Axes>"
            ],
            "image/png": "[encoded data removed]"
          },
          "metadata": {
            "needs_background": "light"
          }
        },
        {
          "output_type": "display_data",
          "data": {
            "text/plain": [
              "<Figure size 432x288 with 1 Axes>"
            ],
            "image/png": "[encoded data removed]"
          },
          "metadata": {
            "needs_background": "light"
          }
        }
      ]
    },
    {
      "cell_type": "markdown",
      "source": [
        "#**Section 3: Inverse Probability Weighting(IPW) algorithm**\n",
        "As stated in the lecture, for univariate missingness patterns, one creates the unbiased estimator given below:\n",
        "$$\n",
        "\\hat{\\mu}_{r,m}^{\\mathrm{IPWE}}\n",
        ":=\n",
        "\\frac{1}{m}\n",
        "\\sum_{i=1}^m{\\frac{Y_i 1_{\\left\\{R_j=r\\right\\}}}{\n",
        "  \\hat{p}_m\\left\\{R_i=r\\middle|X_1^{(i)},X_2^{(i)}\\right\\}}\n",
        "}\n",
        "$$\n",
        "where typically $\\hat{p}_m\\left\\{R_i\\middle|X_i\\right\\}$ should be modelled and inferenced using a variety of schemes.\n",
        "\n",
        "But, fortunately in our toy model, this probability could be exactly determined(take $r=1$):\n",
        "$$\n",
        "\\hat{p}_m\\left\\{R_i=1\\middle|X_1^{(i)},X_2^{(i)}\\right\\}\n",
        "=\n",
        "\\hat{p}_m\\left\\{R_i=1\\middle|X_1^{(i)}\\right\\}\n",
        "=\n",
        "1 - p(X_1^{(i)})\n",
        "$$\n",
        "where $p(\\cdot)$ is given in Section 1."
      ],
      "metadata": {
        "id": "fdkwjnY_lX3e"
      }
    },
    {
      "cell_type": "code",
      "source": [
        "def bootstrap_ipw_sampling(\n",
        "    avr,\n",
        "    n_sample, n_epoch,\n",
        "    data\n",
        "    ):\n",
        "  # \"data\" is a combination in form of [X2,weights]\n",
        "  for _ in range(n_epoch):\n",
        "    sample = data[np.random.choice(\n",
        "          np.arange(data.shape[0]), n_sample, replace = False  \n",
        "        )]\n",
        "    avr += [\n",
        "        (sample[:,0] * sample[:,1]).mean()\n",
        "    ]\n",
        "\n",
        "ipws = []\n",
        "weights = [1/(1-p0) if x > 0 else 1/(1-p1) for x in X1]\n",
        "for idx in np.where(r == 0)[0]:\n",
        "  weights[idx] = 0\n",
        "data = np.stack([X2,weights], axis = 1)\n",
        "bootstrap_ipw_sampling(ipws, n_sample, n_epoch, data)\n",
        "plot_hist(np.array(ipws), \"IPW Estimator\")"
      ],
      "metadata": {
        "colab": {
          "base_uri": "https://localhost:8080/",
          "height": 299
        },
        "id": "htl1S9W_wfY3",
        "outputId": "33352454-9576-4109-f996-95550d069cfb"
      },
      "execution_count": 87,
      "outputs": [
        {
          "output_type": "display_data",
          "data": {
            "text/plain": [
              "<Figure size 432x288 with 1 Axes>"
            ],
            "image/png": "[encoded data removed]"
          },
          "metadata": {
            "needs_background": "light"
          }
        }
      ]
    },
    {
      "cell_type": "markdown",
      "source": [
        "Now you have percepted a deeper understanding of how IPW works. But note that due to numerical unstability, in some runs the IPW method yields worse results than CC, which definitely astonished me at midnight... 😳\n",
        "\n",
        "Have a good day!"
      ],
      "metadata": {
        "id": "7-1Bb9cP5Tqn"
      }
    }
  ]
}